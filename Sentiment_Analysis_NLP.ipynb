{
  "nbformat": 4,
  "nbformat_minor": 0,
  "metadata": {
    "colab": {
      "name": "Sentiment Analysis -NLP.ipynb",
      "provenance": [],
      "collapsed_sections": []
    },
    "kernelspec": {
      "name": "python3",
      "display_name": "Python 3"
    },
    "language_info": {
      "name": "python"
    }
  },
  "cells": [
    {
      "cell_type": "markdown",
      "metadata": {
        "id": "nsQsTVlaECoL"
      },
      "source": [
        "## Sentiment Analysis using NLP( Using a **naïve Bayesian classifier** )\n"
      ]
    },
    {
      "cell_type": "markdown",
      "metadata": {
        "id": "zHXroBGcAfVF"
      },
      "source": [
        "### Import the following:"
      ]
    },
    {
      "cell_type": "code",
      "metadata": {
        "id": "L3cP0BQ4-GJa"
      },
      "source": [
        "import nltk.classify.util\n",
        "from nltk.classify import NaiveBayesClassifier\n",
        "from nltk.corpus import movie_reviews"
      ],
      "execution_count": 1,
      "outputs": []
    },
    {
      "cell_type": "markdown",
      "metadata": {
        "id": "5BFux8WvAk2T"
      },
      "source": [
        "### Define a function to extract features:"
      ]
    },
    {
      "cell_type": "code",
      "metadata": {
        "id": "uPd01KXB-Gpc"
      },
      "source": [
        "def extract_features(word_list):\n",
        "  return dict ([(word, True) for word in word_list])"
      ],
      "execution_count": 2,
      "outputs": []
    },
    {
      "cell_type": "markdown",
      "metadata": {
        "id": "Pw72CIFvAm4n"
      },
      "source": [
        "### For training data, we will use movie reviews in NLTK:"
      ]
    },
    {
      "cell_type": "code",
      "metadata": {
        "colab": {
          "base_uri": "https://localhost:8080/"
        },
        "id": "OpscGDEz-JnR",
        "outputId": "67283d5e-5b5c-4039-fe74-83137a1915a7"
      },
      "source": [
        "import nltk\n",
        "nltk.download('movie_reviews')\n",
        "\n",
        "if __name__=='__main__':\n",
        "   # Load positive and negative reviews  \n",
        "   positive_fileids = movie_reviews.fileids('pos')\n",
        "   negative_fileids = movie_reviews.fileids('neg')"
      ],
      "execution_count": 3,
      "outputs": [
        {
          "output_type": "stream",
          "name": "stdout",
          "text": [
            "[nltk_data] Downloading package movie_reviews to /root/nltk_data...\n",
            "[nltk_data]   Unzipping corpora/movie_reviews.zip.\n"
          ]
        }
      ]
    },
    {
      "cell_type": "markdown",
      "metadata": {
        "id": "u8AKRiwUAwxZ"
      },
      "source": [
        "### Separating these into positive and negative reviews:"
      ]
    },
    {
      "cell_type": "code",
      "metadata": {
        "id": "ITnl2w25-Vvh"
      },
      "source": [
        "features_positive = [(extract_features(movie_reviews.words(fileids=[f])), \n",
        "           'Positive') for f in positive_fileids]\n",
        "\n",
        "features_negative = [(extract_features(movie_reviews.words(fileids=[f])), \n",
        "           'Negative') for f in negative_fileids]"
      ],
      "execution_count": 4,
      "outputs": []
    },
    {
      "cell_type": "markdown",
      "metadata": {
        "id": "Ak4I2m6IA4Pk"
      },
      "source": [
        "### Dividing the data into training and testing data:"
      ]
    },
    {
      "cell_type": "code",
      "metadata": {
        "id": "ChWug8pg-svJ"
      },
      "source": [
        "# Split the data into train and test (80/20)\n",
        "threshold_factor = 0.8\n",
        "threshold_positive = int(threshold_factor * len(features_positive))\n",
        "threshold_negative = int(threshold_factor * len(features_negative))"
      ],
      "execution_count": 5,
      "outputs": []
    },
    {
      "cell_type": "markdown",
      "metadata": {
        "id": "jERzsDg2A79m"
      },
      "source": [
        "### Extracting the features:"
      ]
    },
    {
      "cell_type": "code",
      "metadata": {
        "colab": {
          "base_uri": "https://localhost:8080/"
        },
        "id": "84ez8dZu-wMu",
        "outputId": "ef72bf86-50e2-42ed-8346-c9a5903a06e5"
      },
      "source": [
        "features_train = features_positive[:threshold_positive] + features_negative[:threshold_negative]\n",
        "features_test = features_positive[threshold_positive:] + features_negative[threshold_negative:]  \n",
        "print(\"\\nNumber of training datapoints:\", len(features_train))\n",
        "print(\"Number of test datapoints:\", len(features_test))"
      ],
      "execution_count": 6,
      "outputs": [
        {
          "output_type": "stream",
          "name": "stdout",
          "text": [
            "\n",
            "Number of training datapoints: 1600\n",
            "Number of test datapoints: 400\n"
          ]
        }
      ]
    },
    {
      "cell_type": "markdown",
      "metadata": {
        "id": "tZEeixxyBF2Y"
      },
      "source": [
        "### We will use a **Naive Bayes classifier**. \n",
        "#### Define the object and train it:"
      ]
    },
    {
      "cell_type": "code",
      "metadata": {
        "colab": {
          "base_uri": "https://localhost:8080/"
        },
        "id": "cSQWlOrz-zv9",
        "outputId": "05087d8e-51ea-4115-9c15-97e76de4370b"
      },
      "source": [
        "# Train a Naive Bayes classifier\n",
        "classifier = NaiveBayesClassifier.train(features_train)\n",
        "print(\"\\nAccuracy of the classifier:\", nltk.classify.util.accuracy(classifier, features_test))"
      ],
      "execution_count": 7,
      "outputs": [
        {
          "output_type": "stream",
          "name": "stdout",
          "text": [
            "\n",
            "Accuracy of the classifier: 0.735\n"
          ]
        }
      ]
    },
    {
      "cell_type": "markdown",
      "metadata": {
        "id": "nm5bZEVrBMbi"
      },
      "source": [
        "### The classifier object contains the most informative words that it obtained during analysis. These words basically have a strong say in what’s classified as a positive or a negative review. Let’s print them out:"
      ]
    },
    {
      "cell_type": "code",
      "metadata": {
        "colab": {
          "base_uri": "https://localhost:8080/"
        },
        "id": "CcP6t1eX-4rW",
        "outputId": "68a9a406-b8c6-4810-abdb-77836dcab448"
      },
      "source": [
        "print(\"\\nTop 10 most informative words:\")\n",
        "for item in classifier.most_informative_features()[:10]:\n",
        "       print(item[0])   "
      ],
      "execution_count": 8,
      "outputs": [
        {
          "output_type": "stream",
          "name": "stdout",
          "text": [
            "\n",
            "Top 10 most informative words:\n",
            "outstanding\n",
            "insulting\n",
            "vulnerable\n",
            "ludicrous\n",
            "uninvolving\n",
            "astounding\n",
            "avoids\n",
            "fascination\n",
            "anna\n",
            "affecting\n"
          ]
        }
      ]
    },
    {
      "cell_type": "markdown",
      "metadata": {
        "id": "ojY40a49BPf3"
      },
      "source": [
        "### Creating a random input sentence:"
      ]
    },
    {
      "cell_type": "code",
      "metadata": {
        "id": "GiSJQAyO-7zp"
      },
      "source": [
        "# Sample input reviews\n",
        "input_reviews = [\n",
        "       \"It is an awful movie\"]"
      ],
      "execution_count": 9,
      "outputs": []
    },
    {
      "cell_type": "markdown",
      "metadata": {
        "id": "rPfpKza4BT9v"
      },
      "source": [
        "### Run the classifier on that input sentence and obtain the predictions:"
      ]
    },
    {
      "cell_type": "code",
      "metadata": {
        "colab": {
          "base_uri": "https://localhost:8080/"
        },
        "id": "LJqZ1O01--4N",
        "outputId": "e1ead2b6-a1a9-4bcd-eeca-fad86a236931"
      },
      "source": [
        "print(\"\\nPredictions:\")\n",
        "for review in input_reviews:\n",
        "     print(\"\\nReview:\", review)\n",
        "     probdist = classifier.prob_classify(extract_features(review.split()))\n",
        "     pred_sentiment = probdist.max()  "
      ],
      "execution_count": 10,
      "outputs": [
        {
          "output_type": "stream",
          "name": "stdout",
          "text": [
            "\n",
            "Predictions:\n",
            "\n",
            "Review: It is an awful movie\n"
          ]
        }
      ]
    },
    {
      "cell_type": "markdown",
      "metadata": {
        "id": "Hw0bp8sNBa7P"
      },
      "source": [
        "### And the output is:"
      ]
    },
    {
      "cell_type": "code",
      "metadata": {
        "colab": {
          "base_uri": "https://localhost:8080/"
        },
        "id": "Q91PiW2N_Di7",
        "outputId": "5f637046-c357-48ca-d555-1b34baee0f33"
      },
      "source": [
        "print(\"Predicted sentiment:\", pred_sentiment)\n",
        "print(\"Probability:\", round(probdist.prob(pred_sentiment), 2))"
      ],
      "execution_count": 11,
      "outputs": [
        {
          "output_type": "stream",
          "name": "stdout",
          "text": [
            "Predicted sentiment: Negative\n",
            "Probability: 0.85\n"
          ]
        }
      ]
    }
  ]
}